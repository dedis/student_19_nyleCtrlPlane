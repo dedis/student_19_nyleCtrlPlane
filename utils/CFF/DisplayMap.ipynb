{
 "cells": [
  {
   "cell_type": "code",
   "execution_count": null,
   "metadata": {},
   "outputs": [],
   "source": [
    "import pandas as pd\n",
    "\n",
    "main_cities = [line.strip() for line in open(\"DATASET/main_cities\")]"
   ]
  },
  {
   "cell_type": "code",
   "execution_count": null,
   "metadata": {},
   "outputs": [],
   "source": [
    "import re\n",
    "\n",
    "def is_new_journey(string):\n",
    "    regex_header = r\"-- ([0-9]+) --\"\n",
    "    matches_it = re.finditer(regex_header, line, re.MULTILINE)\n",
    "    matches = [m for m in matches_it]\n",
    "    return len(matches) == 1\n",
    "\n",
    "regex_line = r\"^([0-9]{7}) (.{20}) .([0-9\\ ]{5}) .([0-9\\ ]{5})\"\n",
    "def is_line_timetable(string):\n",
    "    matches_it = re.finditer(regex_line, line, re.MULTILINE)\n",
    "    matches = [m for m in matches_it]\n",
    "    return len(matches) == 1\n",
    "\n",
    "def get_line_timetable(line):\n",
    "    if is_line_timetable(line):\n",
    "        matches_it = re.finditer(regex_line, line, re.MULTILINE)\n",
    "        matches = [m for m in matches_it]\n",
    "        match = matches[0]\n",
    "        return match.groups()\n",
    "\n",
    "    return None, None, None, None\n",
    "\n",
    "def is_start_journey(string):\n",
    "    return string.strip() == \"\"\n",
    "\n",
    "\n",
    "cities = set()\n",
    "links = []\n",
    "count_cities = {}\n",
    "old = None\n",
    "with open(\"DATASET/FPLAN\", \"r\") as f:\n",
    "    for line in f:\n",
    "        if is_new_journey(line):\n",
    "            #print(\"\\n New Journey \\n\")\n",
    "            old=None\n",
    "            pass\n",
    "        \n",
    "        if is_line_timetable(line):\n",
    "            number, name, start_str, end_str = get_line_timetable(line)\n",
    "            name = name.strip()\n",
    "            if name == \"Haute-Nendaz, téléca\":\n",
    "                name = \"Haute-Nendaz, télécabine\"\n",
    "            if name == \"Verbier, station pos\":\n",
    "                name = \"Verbier, station poste\"\n",
    "            \n",
    "            count_cities[name.split(\",\")[0]] = count_cities.get(name.split(\",\")[0],0) + 1\n",
    "            if name in main_cities:             \n",
    "                cities.add(name)\n",
    "                if old != None:\n",
    "                    if old < name:\n",
    "                        links.append((old, name))\n",
    "                    else:\n",
    "                        links.append((name, old))\n",
    "            \n",
    "\n",
    "                old = name\n",
    "                          \n",
    "print(cities)\n",
    "print(links)"
   ]
  },
  {
   "cell_type": "code",
   "execution_count": null,
   "metadata": {},
   "outputs": [],
   "source": [
    "from collections import Counter\n",
    "count_dict = dict(Counter(links))\n",
    "count_dict"
   ]
  },
  {
   "cell_type": "code",
   "execution_count": null,
   "metadata": {},
   "outputs": [],
   "source": [
    "from datetime import date\n",
    "\n",
    "regex_geo = r\"^[0-9]{7} +([0-9\\.\\-]+)  +([0-9\\.\\-]+) .+\\% (.+)\"\n",
    "def get_groups(string, regex): \n",
    "    matches_it = re.finditer(regex, string, re.MULTILINE)\n",
    "    matches = [m for m in matches_it]\n",
    "    match = matches[0]\n",
    "    return match.groups()\n",
    "\n",
    "cities_to_point = pd.DataFrame([], columns=[\"name\", \"long\",\"lat\", \"date\", \"radius\"])\n",
    "with open(\"DATASET/BFKOORD_GEO\", \"r\") as f:\n",
    "    for line in f: \n",
    "        y,x,name = get_groups(line, regex_geo)\n",
    "        if name in main_cities:\n",
    "            cities_to_point = cities_to_point.append({\"name\" : name, \"lat\" : float(x), \"long\" :float(y), \"date\": date.today(), \"radius\" : 10}, ignore_index=True)\n",
    "        \n",
    "cities_to_point\n",
    "map_name_to_coor = {r[1][0] : (r[1][1], r[1][2])for r in cities_to_point.iterrows()}\n",
    "print(map_name_to_coor)"
   ]
  },
  {
   "cell_type": "code",
   "execution_count": null,
   "metadata": {},
   "outputs": [],
   "source": [
    "links_df =[{\"name\": k, \"weight\": v, \"coordinates\" :[map_name_to_coor[c] for c in k]} for k,v in count_dict.items()]\n",
    "\n",
    "\n",
    "from geojson import LineString, Feature, FeatureCollection\n",
    "coll = FeatureCollection([Feature(geometry=LineString(l[\"coordinates\"]), properties={\"weight\": l[\"weight\"]}) for l in links_df])\n",
    "\n"
   ]
  },
  {
   "cell_type": "code",
   "execution_count": null,
   "metadata": {
    "scrolled": false
   },
   "outputs": [],
   "source": [
    "from mapboxgl.viz import *\n",
    "from mapboxgl.utils import *\n",
    "token = (open(\".mapbox_access_token\").read().strip())\n",
    "points = df_to_geojson(cities_to_point, lat='lat', lon='long', precision=3)\n",
    "\n",
    "print(points)\n",
    "\n",
    "color_breaks = [0,9,100,1000,10000]\n",
    "color_stops = create_color_stops(color_breaks, colors='YlGnBu')\n",
    "# Create the viz from the dataframe\n",
    "viz = CircleViz(points,\n",
    "                access_token=token,\n",
    "                stroke_color='black',\n",
    "                stroke_width=0.5,\n",
    "                radius=4,\n",
    "                center=(8, 47),\n",
    "                zoom=7,\n",
    "                style=\"mapbox://styles/harne/ck50szq0t0hpl1cmx9hxbfz7h\")\n",
    "viz.show()"
   ]
  },
  {
   "cell_type": "code",
   "execution_count": null,
   "metadata": {},
   "outputs": [],
   "source": [
    "print(coll)\n",
    "viz = LinestringViz(coll,\n",
    "            access_token=token,\n",
    "            center=(8, 47),\n",
    "            zoom=7,\n",
    "            line_width_property='weight',\n",
    "            line_width_stops=create_numeric_stops([0,1,5, 50, 100, 200,500,1000,  1500], 0, 20),   \n",
    "            color_property='weight',\n",
    "            color_stops=create_color_stops([0,1,5,  50, 100, 200,500,1000,  1500], colors='Blues'),\n",
    "            opacity = 0.8,\n",
    "            style=\"mapbox://styles/harne/ck50szq0t0hpl1cmx9hxbfz7h\",\n",
    "            box_zoom_on = False,\n",
    "            )\n",
    "viz.show()"
   ]
  },
  {
   "cell_type": "code",
   "execution_count": null,
   "metadata": {},
   "outputs": [],
   "source": [
    "viz.__dict__"
   ]
  },
  {
   "cell_type": "code",
   "execution_count": null,
   "metadata": {
    "scrolled": true
   },
   "outputs": [],
   "source": [
    "{k: v for k, v in sorted(count_cities.items(), key=lambda item: item[1], reverse=True)}"
   ]
  },
  {
   "cell_type": "code",
   "execution_count": null,
   "metadata": {
    "scrolled": false
   },
   "outputs": [],
   "source": [
    "map_name_to_coor\n",
    "links_df"
   ]
  },
  {
   "cell_type": "code",
   "execution_count": null,
   "metadata": {},
   "outputs": [],
   "source": [
    "svgio = BytesIO()\n",
    "side = 500\n",
    "import IPython.display\n",
    "\n",
    "from io import BytesIO\n",
    "import numpy as np\n",
    "import cairo\n",
    "\n",
    "x_bar = cities_to_point[\"long\"].mean()\n",
    "y_bar = cities_to_point[\"lat\"].mean()\n",
    "\n",
    "transform_X = lambda x : (x-x_bar)*120+side/2 \n",
    "transform_Y = lambda y : 60 - (v[1]-y_bar)*160+side/2\n",
    "\n",
    "\n",
    "palette = [\n",
    "    [64/255, 64/255, 122/255,1.0],\n",
    "    [255/255, 121/255, 63/255,1.0],\n",
    "    [255/255, 177/255, 66/255,1.0],\n",
    "    [52/255, 172/255, 224/255,1.0],\n",
    "    \n",
    "]\n",
    "with cairo.SVGSurface(svgio, side, side) as surface:\n",
    "    context = cairo.Context(surface)\n",
    "\n",
    "    for k,v in map_name_to_coor.items():\n",
    "        X, Y = transform_X(v[0]), transform_Y(v[1])\n",
    "        context.arc(X, Y, 6, 0, 2*np.pi)\n",
    "        context.set_source_rgba(*palette[0])\n",
    "        context.fill()\n",
    "        \n",
    "    context.set_source_rgba(0,0,0,1)\n",
    "    \n",
    "    for k,v in map_name_to_coor.items():\n",
    "        X, Y = transform_X(v[0]), transform_Y(v[1])\n",
    "        context.move_to(X-20,Y-10)\n",
    "        context.show_text(k)\n",
    "        context.stroke()\n",
    "        \n",
    "#for link in links_df:\n",
    "   #     coord, weight = link[\"coordinates\"], link[\"weight\"]\n",
    "        #X1,Y1,X2,Y2 = transform_X(coord[0][0]), transform_Y(coord[0][1]), transform_X(coord[1][0]), transform_Y(coord[1][1])\n",
    "        #context.move_to(X1, Y1)\n",
    "        #context.line_to(X2, Y2) \n",
    "        #print(X1,X2,Y1,Y2)\n",
    "        #context.set_line_width(weight/20)\n",
    "        #context.stroke()\n",
    "\n",
    "IPython.display.SVG(data=svgio.getvalue())"
   ]
  },
  {
   "cell_type": "code",
   "execution_count": null,
   "metadata": {},
   "outputs": [],
   "source": [
    "cities_to_point[\"long\"].mean()"
   ]
  },
  {
   "cell_type": "code",
   "execution_count": null,
   "metadata": {},
   "outputs": [],
   "source": [
    "map_name_to_coor"
   ]
  },
  {
   "cell_type": "code",
   "execution_count": null,
   "metadata": {
    "scrolled": false
   },
   "outputs": [],
   "source": [
    "import networkx as nx\n",
    "import matplotlib.pyplot as plt\n",
    "\n",
    "fig, axes = plt.subplots(nrows=2, ncols=1, figsize=(10,15)) \n",
    "\n",
    "G = nx.Graph()\n",
    "G.add_nodes_from(map_name_to_coor.keys())\n",
    "edges = [(l[\"name\"], l[\"weight\"]) for l in  links_df]\n",
    "for l in links_df:\n",
    "    G.add_edge(*l[\"name\"], weight=l[\"weight\"])\n",
    "nx.draw(G, map_name_to_coor, with_labels=True, ax=axes[0])\n",
    "\n",
    "\n",
    "weight_matrix = {}\n",
    "\n",
    "for l in links_df:\n",
    "    weight_matrix[l[\"name\"][0]] = weight_matrix.get(l[\"name\"][0], {})\n",
    "    weight_matrix[l[\"name\"][1]] = weight_matrix.get(l[\"name\"][1], {})\n",
    "    weight_matrix[l[\"name\"][0]][l[\"name\"][1]] = l[\"weight\"]\n",
    "    weight_matrix[l[\"name\"][1]][l[\"name\"][0]] = l[\"weight\"]\n",
    "    \n",
    "dist_matrix = {}\n",
    "\n",
    "for nr in G:\n",
    "    dist_matrix[nr] = {}\n",
    "    weight_matrix[nr] = weight_matrix.get(nr,{})\n",
    "    for nc in G:\n",
    "        dist_matrix[nr][nc] = 1/weight_matrix[nr].get(nc, 17) *1000\n",
    "\n",
    "#print(dist_matrix)\n",
    "\n",
    "from networkx.drawing.layout import kamada_kawai_layout\n",
    "np.random.seed(seed=400)\n",
    "\n",
    "layout = kamada_kawai_layout(\n",
    "    G,\n",
    "    scale=100,\n",
    "    dist=dist_matrix,\n",
    "    center=[10,0], \n",
    "    pos=map_name_to_coor)\n",
    "\n",
    "nx.draw(G,layout,with_labels=True, ax=axes[1])\n",
    "plt.show()\n",
    "\n",
    "fig.savefig('../../latex/thesis_template/figures/CFF-NewDistances.pdf')"
   ]
  },
  {
   "cell_type": "code",
   "execution_count": null,
   "metadata": {},
   "outputs": [],
   "source": []
  }
 ],
 "metadata": {
  "kernelspec": {
   "display_name": "Python 3",
   "language": "python",
   "name": "python3"
  },
  "language_info": {
   "codemirror_mode": {
    "name": "ipython",
    "version": 3
   },
   "file_extension": ".py",
   "mimetype": "text/x-python",
   "name": "python",
   "nbconvert_exporter": "python",
   "pygments_lexer": "ipython3",
   "version": "3.7.4"
  }
 },
 "nbformat": 4,
 "nbformat_minor": 2
}
